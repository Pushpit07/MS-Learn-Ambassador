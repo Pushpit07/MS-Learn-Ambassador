{
 "cells": [
  {
   "cell_type": "markdown",
   "source": [
    "# Artemis Rock Segregator"
   ],
   "metadata": {}
  },
  {
   "cell_type": "code",
   "execution_count": 11,
   "source": [
    "print(\"Artemis Rover Rock Scanner Starting\")\n",
    "\n",
    "basalt = 0\n",
    "breccia = 0\n",
    "highland = 0\n",
    "regolith = 0\n",
    "rockList = []"
   ],
   "outputs": [
    {
     "output_type": "stream",
     "name": "stdout",
     "text": [
      "Artemis Rover Rock Scanner Starting\n"
     ]
    }
   ],
   "metadata": {}
  },
  {
   "cell_type": "code",
   "execution_count": 12,
   "source": [
    "strPath = \"rocks.txt\"\n",
    "fileObject = open(strPath, \"w\")\n",
    "fileObject.writelines([\"Reading Rocks\\n\",\"basalt\\n\",\"breccia\\n\",\"highland\\n\",\"regolith\\n\",\"highland\\n\",\"breccia\\n\",\"highland\\n\",\"regolith\\n\",\"regolith\\n\",\"basalt\\n\",\"highland\\n\",\"basalt\\n\",\"breccia\\n\",\"breccia\\n\",\"regolith\\n\",\"breccia\\n\",\"highland\\n\",\"highland\\n\",\"breccia\\n\",\"basalt\\n\"])\n",
    "fileObject.close()"
   ],
   "outputs": [],
   "metadata": {}
  },
  {
   "cell_type": "code",
   "execution_count": 13,
   "source": [
    "strPath = \"rocks.txt\"\n",
    "fileObject = open(strPath)\n",
    "line = fileObject.readline()\n",
    "print(line)"
   ],
   "outputs": [
    {
     "output_type": "stream",
     "name": "stdout",
     "text": [
      "Reading Rocks\n",
      "\n"
     ]
    }
   ],
   "metadata": {}
  },
  {
   "cell_type": "code",
   "execution_count": 14,
   "source": [
    "rockList = fileObject.readlines()\n",
    "\n",
    "for rock in rockList:\n",
    "    print(rock)\n",
    "\n",
    "fileObject.close()"
   ],
   "outputs": [
    {
     "output_type": "stream",
     "name": "stdout",
     "text": [
      "basalt\n",
      "\n",
      "breccia\n",
      "\n",
      "highland\n",
      "\n",
      "regolith\n",
      "\n",
      "highland\n",
      "\n",
      "breccia\n",
      "\n",
      "highland\n",
      "\n",
      "regolith\n",
      "\n",
      "regolith\n",
      "\n",
      "basalt\n",
      "\n",
      "highland\n",
      "\n",
      "basalt\n",
      "\n",
      "breccia\n",
      "\n",
      "breccia\n",
      "\n",
      "regolith\n",
      "\n",
      "breccia\n",
      "\n",
      "highland\n",
      "\n",
      "highland\n",
      "\n",
      "breccia\n",
      "\n",
      "basalt\n",
      "\n"
     ]
    }
   ],
   "metadata": {}
  },
  {
   "cell_type": "code",
   "execution_count": 15,
   "source": [
    "def countMoonRocks(rockToID):\n",
    "    global basalt\n",
    "    global breccia\n",
    "    global highland\n",
    "    global regolith\n",
    "\n",
    "    rockToID = rockToID.lower()\n",
    "\n",
    "    if(\"basalt\" in rockToID):\n",
    "        print(\"Found a basalt\\n\")\n",
    "        basalt += 1\n",
    "    elif(\"breccia\" in rockToID):\n",
    "        print(\"Found a breccia\\n\")\n",
    "        breccia += 1\n",
    "    elif(\"highland\" in rockToID):\n",
    "        print(\"Found a highland\\n\")\n",
    "        highland += 1\n",
    "    elif(\"regolith\" in rockToID):\n",
    "        print(\"Found a regolith\\n\")\n",
    "        regolith += 1\n",
    "\n",
    "    return"
   ],
   "outputs": [],
   "metadata": {}
  },
  {
   "cell_type": "code",
   "execution_count": 16,
   "source": [
    "for rock in rockList:\n",
    "    countMoonRocks(rock)"
   ],
   "outputs": [
    {
     "output_type": "stream",
     "name": "stdout",
     "text": [
      "Found a basalt\n",
      "\n",
      "Found a breccia\n",
      "\n",
      "Found a highland\n",
      "\n",
      "Found a regolith\n",
      "\n",
      "Found a highland\n",
      "\n",
      "Found a breccia\n",
      "\n",
      "Found a highland\n",
      "\n",
      "Found a regolith\n",
      "\n",
      "Found a regolith\n",
      "\n",
      "Found a basalt\n",
      "\n",
      "Found a highland\n",
      "\n",
      "Found a basalt\n",
      "\n",
      "Found a breccia\n",
      "\n",
      "Found a breccia\n",
      "\n",
      "Found a regolith\n",
      "\n",
      "Found a breccia\n",
      "\n",
      "Found a highland\n",
      "\n",
      "Found a highland\n",
      "\n",
      "Found a breccia\n",
      "\n",
      "Found a basalt\n",
      "\n"
     ]
    }
   ],
   "metadata": {}
  },
  {
   "cell_type": "code",
   "execution_count": 19,
   "source": [
    "print(\"Number of Basalt: \", basalt)\n",
    "print(\"Number of Breccia: \", breccia)\n",
    "print(\"Number of Highland: \", highland)\n",
    "print(\"Number of Regolith: \", regolith)\n",
    "\n",
    "print(\"The max number of one type of rock found was:\", max(basalt, breccia, highland,regolith))\n",
    "print(\"The minimum number of one type of rock found was:\", min(basalt, breccia, highland, regolith))"
   ],
   "outputs": [
    {
     "output_type": "stream",
     "name": "stdout",
     "text": [
      "Number of Basalt:  4\n",
      "Number of Breccia:  6\n",
      "Number of Highland:  6\n",
      "Number of Regolith:  4\n",
      "The max number of one type of rock found was: 6\n",
      "The minimum number of one type of rock found was: 4\n"
     ]
    }
   ],
   "metadata": {}
  },
  {
   "cell_type": "code",
   "execution_count": null,
   "source": [],
   "outputs": [],
   "metadata": {}
  }
 ],
 "metadata": {
  "orig_nbformat": 4,
  "language_info": {
   "name": "python"
  }
 },
 "nbformat": 4,
 "nbformat_minor": 2
}